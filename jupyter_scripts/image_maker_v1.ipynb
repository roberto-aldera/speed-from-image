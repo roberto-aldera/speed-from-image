{
 "cells": [
  {
   "cell_type": "code",
   "execution_count": 1,
   "metadata": {},
   "outputs": [],
   "source": [
    "import numpy as np\n",
    "import matplotlib.pyplot as plt \n",
    "from PIL import Image\n",
    "from random import randint, randrange, uniform"
   ]
  },
  {
   "cell_type": "code",
   "execution_count": 2,
   "metadata": {},
   "outputs": [
    {
     "name": "stdout",
     "output_type": "stream",
     "text": [
      "[27, 25, 11, 27, 14, 24]\n"
     ]
    },
    {
     "data": {
      "text/plain": [
       "128"
      ]
     },
     "execution_count": 2,
     "metadata": {},
     "output_type": "execute_result"
    }
   ],
   "source": [
    "def decomposition(leftovers,min_val,max_val):\n",
    "        while leftovers > 0:\n",
    "            if(leftovers > min_val):\n",
    "                n = randint(min_val, max_val)\n",
    "                # avoid chance of small future value by discarding n if the new remains are too small\n",
    "                if((leftovers - n) < min_val): \n",
    "                    n = leftovers\n",
    "            yield n\n",
    "            leftovers -= n\n",
    "tmp = list(decomposition(128,10,30))\n",
    "print(tmp)\n",
    "np.sum(tmp)"
   ]
  },
  {
   "cell_type": "code",
   "execution_count": 5,
   "metadata": {},
   "outputs": [
    {
     "name": "stdout",
     "output_type": "stream",
     "text": [
      "Step vals: [7, 5, 8, 3, 3, 3]\n"
     ]
    },
    {
     "data": {
      "image/png": "[encoded data removed]",
      "text/plain": [
       "<PIL.Image.Image image mode=L size=28x28 at 0x11C078518>"
      ]
     },
     "metadata": {},
     "output_type": "display_data"
    },
    {
     "data": {
      "text/plain": [
       "(0, 8)"
      ]
     },
     "execution_count": 5,
     "metadata": {},
     "output_type": "execute_result"
    },
    {
     "data": {
      "image/png": "[encoded data removed]",
      "text/plain": [
       "<Figure size 432x288 with 1 Axes>"
      ]
     },
     "metadata": {},
     "output_type": "display_data"
    }
   ],
   "source": [
    "dim = 28\n",
    "width = np.zeros(dim,dtype=np.uint8)\n",
    "wall_width = 2\n",
    "start = np.array([0,int(dim/2)])\n",
    "w, h = dim,dim\n",
    "data = np.zeros((h, w), dtype=np.uint8)\n",
    "min_width, max_width = 2,8\n",
    "step_vals = list(decomposition(dim,min_width,max_width)) # generate random partitions\n",
    "print(\"Step vals:\",step_vals)\n",
    "total = 0\n",
    "\n",
    "for i in range(len(step_vals)):\n",
    "    width[total:total+step_vals[i]] = randrange(min_width,max_width)\n",
    "    total += step_vals[i]\n",
    "\n",
    "for i in range(dim):\n",
    "    data[i,start[1]+width[i]:start[1]+width[i]+wall_width] = 255 # left wall\n",
    "    data[i,start[1]-width[i]:start[1]-width[i]+wall_width] = 255 # right wall\n",
    "\n",
    "img = Image.fromarray(data, 'L')\n",
    "display(img)\n",
    "\n",
    "speed = np.zeros(dim)\n",
    "for i in range(len(speed)):\n",
    "    speed[i] = width[i] + uniform(-0.5,0.5)\n",
    "\n",
    "plt.plot(width)\n",
    "plt.plot(speed)\n",
    "plt.ylim(0,max_width)"
   ]
  },
  {
   "cell_type": "code",
   "execution_count": 7,
   "metadata": {},
   "outputs": [],
   "source": [
    "dim = 28\n",
    "wall_width = 2\n",
    "start = np.array([0,int(dim/2)])\n",
    "w, h = dim,dim\n",
    "min_width, max_width = 2,8\n",
    "n_samples = 500\n",
    "speed_labels = []\n",
    "\n",
    "for idx in range(n_samples):\n",
    "    width = np.zeros(dim,dtype=np.uint8)\n",
    "    data = np.zeros((h, w), dtype=np.uint8)\n",
    "    step_vals = list(decomposition(dim,min_width,max_width)) # generate random partitions\n",
    "    total = 0\n",
    "\n",
    "    for i in range(len(step_vals)):\n",
    "        width[total:total+step_vals[i]] = randrange(min_width,max_width)\n",
    "        total += step_vals[i]\n",
    "\n",
    "    for i in range(dim):\n",
    "        data[i,start[1]+width[i]:start[1]+width[i]+wall_width] = 255 # left wall\n",
    "        data[i,start[1]-width[i]:start[1]-width[i]+wall_width] = 255 # right wall\n",
    "\n",
    "    img = Image.fromarray(data, 'L')\n",
    "    img.save(\"%s%i%s\" % ('/Users/roberto/code/speed-from-image/images/img-',idx,'.png'))\n",
    "    \n",
    "    # Add noise to width data and treat this as speed\n",
    "    speed = np.zeros(dim)\n",
    "    for i in range(len(speed)):\n",
    "        speed[i] = width[i] + uniform(-0.5,0.5)\n",
    "    speed_labels.append(speed)\n",
    "\n",
    "np.savetxt('/Users/roberto/code/speed-from-image/images/speed_labels.csv', speed_labels, delimiter=',',fmt='%10.5f')"
   ]
  },
  {
   "cell_type": "code",
   "execution_count": null,
   "metadata": {},
   "outputs": [],
   "source": []
  }
 ],
 "metadata": {
  "kernelspec": {
   "display_name": "Python 3",
   "language": "python",
   "name": "python3"
  },
  "language_info": {
   "codemirror_mode": {
    "name": "ipython",
    "version": 3
   },
   "file_extension": ".py",
   "mimetype": "text/x-python",
   "name": "python",
   "nbconvert_exporter": "python",
   "pygments_lexer": "ipython3",
   "version": "3.6.6"
  }
 },
 "nbformat": 4,
 "nbformat_minor": 2
}
