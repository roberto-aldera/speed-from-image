{
 "cells": [
  {
   "cell_type": "code",
   "execution_count": 15,
   "metadata": {},
   "outputs": [],
   "source": [
    "import numpy as np\n",
    "import math\n",
    "import matplotlib.pyplot as plt\n",
    "import time\n",
    "np.random.seed(0)\n",
    "kMaxSteps = 200\n",
    "kNumFeatures = 50\n",
    "kMapSize = 32\n",
    "obstacles = np.random.randint(0,kMapSize-1,size=(2,kNumFeatures))\n",
    "kInfluenceRadius = 5\n",
    "kGoal = 1\n",
    "kObjects = 1\n",
    "kVelocityCap = 1"
   ]
  },
  {
   "cell_type": "code",
   "execution_count": 16,
   "metadata": {},
   "outputs": [
    {
     "name": "stdout",
     "output_type": "stream",
     "text": [
      "k = 16\n"
     ]
    },
    {
     "data": {
      "image/png": "[encoded data removed]",
      "text/plain": [
       "<Figure size 720x720 with 1 Axes>"
      ]
     },
     "metadata": {},
     "output_type": "display_data"
    }
   ],
   "source": [
    "k = 0\n",
    "xStart = np.array([kMapSize/2, kMapSize/2]).reshape(2,-1)\n",
    "xGoal = np.array([kMapSize/2,kMapSize]).reshape(2,-1)\n",
    "xRobot = xStart\n",
    "GoalError =  xGoal - xRobot;\n",
    "robot_xy = np.array(xRobot)\n",
    "robot_th = np.array(0)\n",
    "plt.figure(figsize=(10,10))\n",
    "\n",
    "while (np.linalg.norm(GoalError)>1 and k < kMaxSteps):\n",
    "    relative_positions = obstacles - np.tile(xRobot,(1,kNumFeatures))\n",
    "    for i in range(relative_positions.shape[1]):\n",
    "        if(np.all(relative_positions[:,i] == [0,0])):\n",
    "            print(\"Error: obstacle and robot are both at position:\",obstacles[:,i],\"so will now move robot slightly away from this\")\n",
    "            relative_positions[:,i] = [1e-3,1e-3]\n",
    "            print(\"k = \",k)\n",
    "    distances = np.sqrt(np.sum(np.square(relative_positions),axis=0))\n",
    "    idx_proximal = distances < kInfluenceRadius\n",
    "    if(any(idx_proximal)):\n",
    "        rho = np.tile(distances[idx_proximal],(2,1))\n",
    "        V = relative_positions[:,idx_proximal]\n",
    "        DrhoDx = -V/rho\n",
    "        F = (1/rho-1/kInfluenceRadius)*1/(np.square(rho))*DrhoDx\n",
    "        FObjects = kObjects*np.sum(F,axis=1).reshape(-1,1)\n",
    "    else:\n",
    "        FObjects = np.array([0,0]).reshape(-1,1)\n",
    "    FGoal = kGoal*(GoalError)/np.linalg.norm(GoalError);\n",
    "    FTotal = FGoal+FObjects;\n",
    "    FTotal = FTotal/np.linalg.norm(FTotal)*min(kVelocityCap,np.linalg.norm(FTotal))\n",
    "    thetaRobot = math.atan2(FTotal[1],FTotal[0])\n",
    "    xRobot = xRobot+FTotal;\n",
    "    robot_xy=np.append(robot_xy,xRobot,axis=1)\n",
    "    robot_th=np.append(robot_th,thetaRobot)\n",
    "    plt.plot(xRobot[0],xRobot[1],'b^')\n",
    "    GoalError = xGoal - xRobot\n",
    "    k += 1\n",
    "plt.plot(obstacles[0,:],obstacles[1,:],'r*');\n",
    "plt.plot(xGoal[0],xGoal[1],'go')\n",
    "plt.grid()\n",
    "print(\"k =\",k)"
   ]
  },
  {
   "cell_type": "code",
   "execution_count": 17,
   "metadata": {},
   "outputs": [
    {
     "data": {
      "image/png": "[encoded data removed]",
      "text/plain": [
       "<PIL.Image.Image image mode=L size=32x32 at 0x7FD076F9AC18>"
      ]
     },
     "metadata": {},
     "output_type": "display_data"
    }
   ],
   "source": [
    "import numpy as np\n",
    "from PIL import Image\n",
    "data = np.zeros((kMapSize,kMapSize), dtype=np.uint8)\n",
    "obstacle_radius = 1\n",
    "for i in range(kNumFeatures):\n",
    "    data[kMapSize-obstacles[1,i]-obstacle_radius:kMapSize-obstacles[1,i]+obstacle_radius,\n",
    "         obstacles[0,i]-obstacle_radius:obstacles[0,i]+obstacle_radius] = 255\n",
    "img = Image.fromarray(data, 'L')\n",
    "display(img)"
   ]
  },
  {
   "cell_type": "code",
   "execution_count": 18,
   "metadata": {},
   "outputs": [
    {
     "data": {
      "text/plain": [
       "<matplotlib.image.AxesImage at 0x7fd076b3bdd8>"
      ]
     },
     "execution_count": 18,
     "metadata": {},
     "output_type": "execute_result"
    },
    {
     "data": {
      "image/png": "[encoded data removed]",
      "text/plain": [
       "<Figure size 432x288 with 1 Axes>"
      ]
     },
     "metadata": {},
     "output_type": "display_data"
    }
   ],
   "source": [
    "data = np.zeros((kMapSize,kMapSize), dtype=np.uint8)\n",
    "for i in range(kNumFeatures):\n",
    "    data[kMapSize-obstacles[1,i]-1,\n",
    "         obstacles[0,i]] = 255\n",
    "img = Image.fromarray(data, 'L')\n",
    "# plt.figure(figsize=(2,2))\n",
    "plt.imshow(img,cmap='gray')"
   ]
  },
  {
   "cell_type": "code",
   "execution_count": 19,
   "metadata": {},
   "outputs": [
    {
     "ename": "IndexError",
     "evalue": "index 32 is out of bounds for axis 0 with size 32",
     "output_type": "error",
     "traceback": [
      "\u001b[0;31m---------------------------------------------------------------------------\u001b[0m",
      "\u001b[0;31mIndexError\u001b[0m                                Traceback (most recent call last)",
      "\u001b[0;32m<ipython-input-19-3b7eaaabad09>\u001b[0m in \u001b[0;36m<module>\u001b[0;34m()\u001b[0m\n\u001b[1;32m      2\u001b[0m \u001b[0;32mfor\u001b[0m \u001b[0mi\u001b[0m \u001b[0;32min\u001b[0m \u001b[0mrange\u001b[0m\u001b[0;34m(\u001b[0m\u001b[0mkNumFeatures\u001b[0m\u001b[0;34m)\u001b[0m\u001b[0;34m:\u001b[0m\u001b[0;34m\u001b[0m\u001b[0m\n\u001b[1;32m      3\u001b[0m     data[kMapSize-obstacles[1,i],\n\u001b[0;32m----> 4\u001b[0;31m          obstacles[0,i]] = 255\n\u001b[0m\u001b[1;32m      5\u001b[0m \u001b[0mimg\u001b[0m \u001b[0;34m=\u001b[0m \u001b[0mImage\u001b[0m\u001b[0;34m.\u001b[0m\u001b[0mfromarray\u001b[0m\u001b[0;34m(\u001b[0m\u001b[0mdata\u001b[0m\u001b[0;34m,\u001b[0m \u001b[0;34m'L'\u001b[0m\u001b[0;34m)\u001b[0m\u001b[0;34m\u001b[0m\u001b[0m\n\u001b[1;32m      6\u001b[0m \u001b[0;34m\u001b[0m\u001b[0m\n",
      "\u001b[0;31mIndexError\u001b[0m: index 32 is out of bounds for axis 0 with size 32"
     ]
    }
   ],
   "source": [
    "data = np.zeros((kMapSize,kMapSize), dtype=np.uint8)\n",
    "for i in range(kNumFeatures):\n",
    "    data[kMapSize-1-obstacles[1,i],\n",
    "         obstacles[0,i]] = 255\n",
    "img = Image.fromarray(data, 'L')\n",
    "\n",
    "plt.figure(figsize=(15,7))\n",
    "plt.axis('equal')\n",
    "plt.subplot(121)\n",
    "plt.imshow(img,cmap='gray')\n",
    "plt.subplot(122)\n",
    "plt.plot(obstacles[0,:],obstacles[1,:],'r*');\n",
    "plt.plot(xGoal[0],xGoal[1],'go')\n",
    "plt.grid()\n",
    "plt.show()"
   ]
  },
  {
   "cell_type": "code",
   "execution_count": 25,
   "metadata": {},
   "outputs": [
    {
     "data": {
      "text/plain": [
       "array([ 0,  1,  9, 25,  0, 10, 20, 23,  3, 30, 11, 18, 23, 28,  2,  0,  0,\n",
       "        4, 21,  5,  6,  8, 20, 17, 15,  4,  9, 10, 26, 24,  1,  1,  7,  9,\n",
       "       25,  3,  6, 23, 11, 14, 18, 27,  0, 14,  3, 21, 12, 25, 10, 20])"
      ]
     },
     "execution_count": 25,
     "metadata": {},
     "output_type": "execute_result"
    }
   ],
   "source": [
    "obstacles[1,:]"
   ]
  },
  {
   "cell_type": "code",
   "execution_count": null,
   "metadata": {},
   "outputs": [],
   "source": []
  }
 ],
 "metadata": {
  "kernelspec": {
   "display_name": "Python 3",
   "language": "python",
   "name": "python3"
  },
  "language_info": {
   "codemirror_mode": {
    "name": "ipython",
    "version": 3
   },
   "file_extension": ".py",
   "mimetype": "text/x-python",
   "name": "python",
   "nbconvert_exporter": "python",
   "pygments_lexer": "ipython3",
   "version": "3.6.6"
  }
 },
 "nbformat": 4,
 "nbformat_minor": 4
}
