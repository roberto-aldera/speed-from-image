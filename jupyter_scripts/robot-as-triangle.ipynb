{
 "cells": [
  {
   "cell_type": "code",
   "execution_count": 1,
   "metadata": {},
   "outputs": [],
   "source": [
    "import numpy as np\n",
    "import matplotlib.pyplot as plt\n",
    "\n",
    "np.random.seed(0)\n",
    "kMapSize = 50\n",
    "kNumFeatures = 20\n",
    "obstacles = np.random.randint(0,kMapSize-1,size=(2,kNumFeatures))\n"
   ]
  },
  {
   "cell_type": "code",
   "execution_count": 3,
   "metadata": {},
   "outputs": [
    {
     "data": {
      "image/png": "[encoded data removed]",
      "text/plain": [
       "<Figure size 360x360 with 1 Axes>"
      ]
     },
     "metadata": {},
     "output_type": "display_data"
    }
   ],
   "source": [
    "plt.figure(figsize=(5,5))\n",
    "plt.plot(obstacles[0,:],obstacles[1,:],'r*');\n",
    "plt.grid()"
   ]
  },
  {
   "cell_type": "code",
   "execution_count": 11,
   "metadata": {},
   "outputs": [
    {
     "data": {
      "text/plain": [
       "<matplotlib.patches.Polygon at 0x7fcaed898390>"
      ]
     },
     "execution_count": 11,
     "metadata": {},
     "output_type": "execute_result"
    },
    {
     "data": {
      "image/png": "[encoded data removed]",
      "text/plain": [
       "<Figure size 360x360 with 1 Axes>"
      ]
     },
     "metadata": {},
     "output_type": "display_data"
    }
   ],
   "source": [
    "plt.figure(figsize=(5,5))\n",
    "plt.plot(obstacles[0,:],obstacles[1,:],'r*');\n",
    "plt.grid()\n",
    "# tri_verts = np.array([[-1,0,1],[-1,1,-1]])\n",
    "tri_verts = np.array([[-1,-1],[0,1],[1,-1]])\n",
    "triangle = plt.Polygon(tri_verts)\n",
    "plt.gca().add_patch(triangle)"
   ]
  },
  {
   "cell_type": "code",
   "execution_count": 32,
   "metadata": {},
   "outputs": [
    {
     "data": {
      "text/plain": [
       "<matplotlib.patches.Polygon at 0x7fcaedcf9ac8>"
      ]
     },
     "execution_count": 32,
     "metadata": {},
     "output_type": "execute_result"
    },
    {
     "data": {
      "image/png": "[encoded data removed]",
      "text/plain": [
       "<Figure size 360x360 with 1 Axes>"
      ]
     },
     "metadata": {},
     "output_type": "display_data"
    }
   ],
   "source": [
    "plt.figure(figsize=(5,5))\n",
    "plt.plot(obstacles[0,:],obstacles[1,:],'r*');\n",
    "plt.grid()\n",
    "\n",
    "def draw_robot(x_pos, y_pos, theta):\n",
    "    scale = 2\n",
    "    init_triangle = np.array([[-1,-1],[0,1],[1,-1]])*scale\n",
    "    rot_mat = np.array([[-np.cos(theta),np.sin(theta)],[np.sin(theta),np.cos(theta)]])\n",
    "    new_verts = np.matmul(init_triangle, rot_mat)\n",
    "    new_verts[:,0] = new_verts[:,0] + x_pos\n",
    "    new_verts[:,1] = new_verts[:,1] + y_pos\n",
    "    triangle = plt.Polygon(new_verts)\n",
    "    return triangle\n",
    "\n",
    "plt.gca().add_patch(draw_robot(kMapSize/2,kMapSize/2,np.pi/2))"
   ]
  },
  {
   "cell_type": "code",
   "execution_count": 1,
   "metadata": {},
   "outputs": [
    {
     "name": "stdout",
     "output_type": "stream",
     "text": [
      "0\n",
      "1\n",
      "2\n",
      "3\n",
      "4\n"
     ]
    }
   ],
   "source": [
    "for i in range(5):\n",
    "    print(i)"
   ]
  },
  {
   "cell_type": "code",
   "execution_count": 4,
   "metadata": {},
   "outputs": [
    {
     "name": "stdout",
     "output_type": "stream",
     "text": [
      "0\n",
      "1\n",
      "2\n",
      "3\n",
      "4\n"
     ]
    }
   ],
   "source": [
    "import numpy as np\n",
    "my_arr = np.array([0,1,2,3,4])\n",
    "for data in my_arr:\n",
    "    print(data)"
   ]
  },
  {
   "cell_type": "code",
   "execution_count": null,
   "metadata": {},
   "outputs": [],
   "source": []
  }
 ],
 "metadata": {
  "kernelspec": {
   "display_name": "Python 3",
   "language": "python",
   "name": "python3"
  },
  "language_info": {
   "codemirror_mode": {
    "name": "ipython",
    "version": 3
   },
   "file_extension": ".py",
   "mimetype": "text/x-python",
   "name": "python",
   "nbconvert_exporter": "python",
   "pygments_lexer": "ipython3",
   "version": "3.6.6"
  }
 },
 "nbformat": 4,
 "nbformat_minor": 2
}
