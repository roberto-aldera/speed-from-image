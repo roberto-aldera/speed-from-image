{
 "cells": [
  {
   "cell_type": "code",
   "execution_count": 3,
   "metadata": {},
   "outputs": [],
   "source": [
    "import numpy as np\n",
    "import random\n",
    "\n",
    "obstacles_x = [random.randrange(10,(32 - 1) - 10,1) for x in range(15)]\n",
    "obstacles_y = [random.randrange(10,(32 - 1) - 5,1) for x in range(15)]\n"
   ]
  },
  {
   "cell_type": "code",
   "execution_count": 4,
   "metadata": {},
   "outputs": [],
   "source": [
    "obstacles = [obstacles_x, obstacles_y]"
   ]
  },
  {
   "cell_type": "code",
   "execution_count": 5,
   "metadata": {},
   "outputs": [
    {
     "data": {
      "text/plain": [
       "[[13, 17, 11, 20, 15, 16, 10, 17, 12, 15, 14, 17, 10, 12, 15],\n",
       " [24, 22, 14, 11, 23, 20, 19, 10, 18, 15, 12, 22, 21, 25, 15]]"
      ]
     },
     "execution_count": 5,
     "metadata": {},
     "output_type": "execute_result"
    }
   ],
   "source": [
    "obstacles"
   ]
  },
  {
   "cell_type": "code",
   "execution_count": 10,
   "metadata": {},
   "outputs": [],
   "source": [
    "tmp = list(zip(obstacles_x,obstacles_y))"
   ]
  },
  {
   "cell_type": "code",
   "execution_count": 15,
   "metadata": {},
   "outputs": [
    {
     "data": {
      "text/plain": [
       "array([[13, 24],\n",
       "       [17, 22],\n",
       "       [11, 14],\n",
       "       [20, 11],\n",
       "       [15, 23],\n",
       "       [16, 20],\n",
       "       [10, 19],\n",
       "       [17, 10],\n",
       "       [12, 18],\n",
       "       [15, 15],\n",
       "       [14, 12],\n",
       "       [17, 22],\n",
       "       [10, 21],\n",
       "       [12, 25],\n",
       "       [15, 15]])"
      ]
     },
     "execution_count": 15,
     "metadata": {},
     "output_type": "execute_result"
    }
   ],
   "source": [
    "np.array(tmp)"
   ]
  },
  {
   "cell_type": "code",
   "execution_count": 20,
   "metadata": {},
   "outputs": [
    {
     "data": {
      "text/plain": [
       "array([[-3,  8],\n",
       "       [ 1,  6],\n",
       "       [-5, -2],\n",
       "       [ 4, -5],\n",
       "       [-1,  7],\n",
       "       [ 0,  4],\n",
       "       [-6,  3],\n",
       "       [ 1, -6],\n",
       "       [-4,  2],\n",
       "       [-1, -1],\n",
       "       [-2, -4],\n",
       "       [ 1,  6],\n",
       "       [-6,  5],\n",
       "       [-4,  9],\n",
       "       [-1, -1]])"
      ]
     },
     "execution_count": 20,
     "metadata": {},
     "output_type": "execute_result"
    }
   ],
   "source": [
    "tmp - np.tile(16, (15,1))"
   ]
  },
  {
   "cell_type": "code",
   "execution_count": 19,
   "metadata": {},
   "outputs": [
    {
     "data": {
      "text/plain": [
       "(15, 1)"
      ]
     },
     "execution_count": 19,
     "metadata": {},
     "output_type": "execute_result"
    }
   ],
   "source": [
    "t.shape"
   ]
  },
  {
   "cell_type": "code",
   "execution_count": null,
   "metadata": {},
   "outputs": [],
   "source": []
  }
 ],
 "metadata": {
  "kernelspec": {
   "display_name": "Python 3",
   "language": "python",
   "name": "python3"
  },
  "language_info": {
   "codemirror_mode": {
    "name": "ipython",
    "version": 3
   },
   "file_extension": ".py",
   "mimetype": "text/x-python",
   "name": "python",
   "nbconvert_exporter": "python",
   "pygments_lexer": "ipython3",
   "version": "3.6.6"
  }
 },
 "nbformat": 4,
 "nbformat_minor": 2
}
