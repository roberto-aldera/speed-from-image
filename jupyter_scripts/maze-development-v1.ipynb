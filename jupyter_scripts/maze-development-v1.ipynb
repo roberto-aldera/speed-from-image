{
 "cells": [
  {
   "cell_type": "code",
   "execution_count": 604,
   "metadata": {},
   "outputs": [
    {
     "name": "stdout",
     "output_type": "stream",
     "text": [
      "(2, 1)\n",
      "[[30 30 30 30 30 30 30 30 30 30 30 30 30 30 30 30 30 30 30 30]\n",
      " [35 35 35 35 35 35 35 35 35 35 35 35 35 35 35 35 35 35 35 35]]\n",
      "(2, 20)\n"
     ]
    }
   ],
   "source": [
    "import numpy as np\n",
    "import time\n",
    "np.random.seed(0)\n",
    "kNumFeatures = 20\n",
    "kMapSize = 25\n",
    "obstacles = np.random.rand(2,kNumFeatures)*kMapSize\n",
    "kInfluenceRadius = 3\n",
    "xStart = np.array([0,0])\n",
    "xGoal = np.array([kMapSize,kMapSize]).reshape(2,-1)\n",
    "# xRobot = kStart\n",
    "xRobot = np.array([30, 35]).reshape(2,-1)\n",
    "print(xRobot.shape)\n",
    "kGoal = 1\n",
    "kObjects = 1\n",
    "GoalError =  xGoal - xRobot;\n",
    "\n",
    "tmp = np.tile(xRobot,(1,kNumFeatures))\n",
    "print(tmp)\n",
    "print(tmp.shape)"
   ]
  },
  {
   "cell_type": "code",
   "execution_count": 605,
   "metadata": {},
   "outputs": [
    {
     "data": {
      "text/plain": [
       "[<matplotlib.lines.Line2D at 0x7ff37aa9d510>]"
      ]
     },
     "execution_count": 605,
     "metadata": {},
     "output_type": "execute_result"
    },
    {
     "data": {
      "image/png": "[encoded data removed]",
      "text/plain": [
       "<Figure size 360x360 with 1 Axes>"
      ]
     },
     "metadata": {
      "needs_background": "light"
     },
     "output_type": "display_data"
    }
   ],
   "source": [
    "import matplotlib.pyplot as plt\n",
    "plt.figure(figsize=(5,5))\n",
    "plt.ylim(0, kMapSize+5)\n",
    "plt.xlim(0, kMapSize+5)\n",
    "plt.plot(obstacles[0,:],obstacles[1,:],'r*');\n",
    "plt.plot(xRobot[0],xRobot[1],'b^')\n",
    "plt.plot(xGoal[0],xGoal[1],'go')"
   ]
  },
  {
   "cell_type": "code",
   "execution_count": 606,
   "metadata": {},
   "outputs": [
    {
     "name": "stdout",
     "output_type": "stream",
     "text": [
      "[[-16.2796624  -12.12026584 -14.9309156  -16.37792043 -19.40863002\n",
      "  -13.85264717 -19.06031972  -7.70567498  -5.90843099 -20.41396203\n",
      "  -10.20687405 -16.77762701 -15.79888597  -6.86008404 -28.22409855\n",
      "  -27.82176751 -29.49454006  -9.18450386 -10.54608123  -8.24969629]\n",
      " [-10.53454144 -15.02103589 -23.46301594 -15.48677059 -32.04313935\n",
      "  -19.00197447 -31.41616781 -11.38327707 -21.95379196 -24.6334515\n",
      "  -28.3861097  -15.64415776 -23.59624169 -20.78915128 -34.53025499\n",
      "  -19.55911257 -19.69760693 -19.57665008 -11.40629804 -17.95449252]]\n",
      "(2, 20)\n"
     ]
    }
   ],
   "source": [
    "relative_positions = obstacles - np.tile(xRobot,(1,kNumFeatures))\n",
    "print(relative_positions)\n",
    "print(relative_positions.shape)"
   ]
  },
  {
   "cell_type": "code",
   "execution_count": 607,
   "metadata": {},
   "outputs": [
    {
     "name": "stdout",
     "output_type": "stream",
     "text": [
      "[19.39082183 19.30109747 27.8108856  22.54054881 37.46275082 23.5153326\n",
      " 36.74603908 13.74614214 22.7349629  31.99276135 30.16540239 22.93966957\n",
      " 28.39696146 21.89176932 44.59751393 34.00896399 35.46721884 21.62406852\n",
      " 15.53458928 19.75908122]\n"
     ]
    }
   ],
   "source": [
    "distances = np.sqrt(np.sum(np.square(relative_positions),axis=0))\n",
    "print(distances)"
   ]
  },
  {
   "cell_type": "code",
   "execution_count": 608,
   "metadata": {},
   "outputs": [],
   "source": [
    "idx_proximal = distances < kInfluenceRadius"
   ]
  },
  {
   "cell_type": "code",
   "execution_count": 609,
   "metadata": {},
   "outputs": [
    {
     "name": "stdout",
     "output_type": "stream",
     "text": [
      "[[13.7203376  17.87973416 15.0690844  13.62207957 10.59136998 16.14735283\n",
      "  10.93968028 22.29432502 24.09156901  9.58603797 19.79312595 13.22237299\n",
      "  14.20111403 23.13991596  1.77590145  2.17823249  0.50545994 20.81549614\n",
      "  19.45391877 21.75030371]\n",
      " [24.46545856 19.97896411 11.53698406 19.51322941  2.95686065 15.99802553\n",
      "   3.58383219 23.61672293 13.04620804 10.3665485   6.6138903  19.35584224\n",
      "  11.40375831 14.21084872  0.46974501 15.44088743 15.30239307 15.42334992\n",
      "  23.59370196 17.04550748]]\n",
      "(2, 20)\n",
      "[]\n"
     ]
    }
   ],
   "source": [
    "print(obstacles)\n",
    "print(obstacles.shape)\n",
    "proximal = obstacles[:,idx_proximal]\n",
    "print(proximal)"
   ]
  },
  {
   "cell_type": "code",
   "execution_count": 610,
   "metadata": {},
   "outputs": [
    {
     "name": "stdout",
     "output_type": "stream",
     "text": [
      "rho: []\n",
      "V: []\n",
      "V shape: (2, 0)\n",
      "DrhoDx: []\n",
      "F: []\n",
      "FObjects: [0. 0.]\n"
     ]
    }
   ],
   "source": [
    "rho = np.tile(distances[idx_proximal],(2,1))\n",
    "print(\"rho:\",rho)\n",
    "V = relative_positions[:,idx_proximal]\n",
    "print(\"V:\",V)\n",
    "print(\"V shape:\",V.shape)\n",
    "\n",
    "DrhoDx = -V/rho\n",
    "print(\"DrhoDx:\",DrhoDx)\n",
    "F = (1/rho-1/kInfluenceRadius)*1/(np.square(rho))*DrhoDx\n",
    "print(\"F:\",F)\n",
    "FObjects = kObjects*np.sum(F,axis=1)\n",
    "print(\"FObjects:\",FObjects)"
   ]
  },
  {
   "cell_type": "code",
   "execution_count": 613,
   "metadata": {},
   "outputs": [
    {
     "name": "stdout",
     "output_type": "stream",
     "text": [
      "k = 25\n"
     ]
    },
    {
     "data": {
      "image/png": "[encoded data removed]",
      "text/plain": [
       "<Figure size 360x360 with 1 Axes>"
      ]
     },
     "metadata": {
      "needs_background": "light"
     },
     "output_type": "display_data"
    }
   ],
   "source": [
    "k = 0\n",
    "kMaxSteps = 50\n",
    "xRobot = np.array([kMapSize/2, 0]).reshape(2,-1)\n",
    "xGoal = np.array([kMapSize/2,kMapSize]).reshape(2,-1)\n",
    "GoalError =  xGoal - xRobot;\n",
    "\n",
    "plt.figure(figsize=(5,5))\n",
    "# plt.ylim(0, kMapSize+5)\n",
    "# plt.xlim(0, kMapSize+5)\n",
    "\n",
    "while (np.linalg.norm(GoalError)>1 and k < kMaxSteps):\n",
    "    relative_positions = obstacles - np.tile(xRobot,(1,kNumFeatures))\n",
    "    distances = np.sqrt(np.sum(np.square(relative_positions),axis=0))\n",
    "    idx_proximal = distances < kInfluenceRadius\n",
    "    if(any(idx_proximal)):\n",
    "        rho = np.tile(distances[idx_proximal],(2,1))\n",
    "        V = relative_positions[:,idx_proximal]\n",
    "        DrhoDx = -V/rho\n",
    "        F = (1/rho-1/kInfluenceRadius)*1/(np.square(rho))*DrhoDx\n",
    "        FObjects = kObjects*np.sum(F,axis=1).reshape(-1,1)\n",
    "    else:\n",
    "        FObjects = np.array([0,0]).reshape(-1,1)\n",
    "    FGoal = kGoal*(GoalError)/np.linalg.norm(GoalError);\n",
    "    FTotal = FGoal+FObjects;\n",
    "    FTotal = FTotal/np.linalg.norm(FTotal)*min(1,np.linalg.norm(FTotal))\n",
    "    xRobot = xRobot+FTotal;\n",
    "    plt.plot(xRobot[0],xRobot[1],'b^')\n",
    "    GoalError = xGoal - xRobot\n",
    "    k += 1\n",
    "plt.plot(obstacles[0,:],obstacles[1,:],'r*');\n",
    "plt.plot(xGoal[0],xGoal[1],'go')\n",
    "print(\"k =\",k)"
   ]
  },
  {
   "cell_type": "code",
   "execution_count": null,
   "metadata": {},
   "outputs": [],
   "source": []
  }
 ],
 "metadata": {
  "kernelspec": {
   "display_name": "Python 3",
   "language": "python",
   "name": "python3"
  },
  "language_info": {
   "codemirror_mode": {
    "name": "ipython",
    "version": 3
   },
   "file_extension": ".py",
   "mimetype": "text/x-python",
   "name": "python",
   "nbconvert_exporter": "python",
   "pygments_lexer": "ipython3",
   "version": "3.7.6"
  }
 },
 "nbformat": 4,
 "nbformat_minor": 4
}
