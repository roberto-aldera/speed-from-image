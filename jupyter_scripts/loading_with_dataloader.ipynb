{
 "cells": [
  {
   "cell_type": "code",
   "execution_count": 196,
   "metadata": {},
   "outputs": [],
   "source": [
    "import numpy as np\n",
    "import matplotlib.pyplot as plt \n",
    "from PIL import Image\n",
    "import pandas as pd\n",
    "from torchvision import transforms\n",
    "import torch"
   ]
  },
  {
   "cell_type": "code",
   "execution_count": 197,
   "metadata": {},
   "outputs": [],
   "source": [
    "from torch.utils.data import Dataset, DataLoader\n",
    "import os\n",
    "\n",
    "class TunnelDataset(Dataset):\n",
    "    \"\"\"Tunnel dataset.\"\"\"\n",
    "\n",
    "    def __init__(self, csv_file, root_dir, transform=None):\n",
    "        \"\"\"\n",
    "        Args:\n",
    "            csv_file (string): Path to the csv file with targets.\n",
    "            root_dir (string): Directory with all the images.\n",
    "            transform (callable, optional): Optional transform to be applied\n",
    "                on a sample.\n",
    "        \"\"\"\n",
    "        self.speeds_frame = pd.read_csv(csv_file,header=None)\n",
    "        self.root_dir = root_dir\n",
    "        self.transform = transform\n",
    "\n",
    "    def __len__(self):\n",
    "        return len(self.speeds_frame)\n",
    "\n",
    "    def __getitem__(self, idx):\n",
    "        if torch.is_tensor(idx):\n",
    "            idx = idx.tolist()\n",
    "        img_name = self.root_dir + 'img-' + str(idx) + '.png'\n",
    "        image = np.array(Image.open(img_name))\n",
    "        speeds = np.array(self.speeds_frame.iloc[idx])\n",
    "        sample = {'image': image, 'speeds': speeds}\n",
    "\n",
    "        if self.transform:\n",
    "            sample = self.transform(sample)\n",
    "\n",
    "        return sample\n",
    "\n",
    "class ToTensor(object):\n",
    "    \"\"\"Convert ndarrays in sample to Tensors.\"\"\"\n",
    "\n",
    "    def __call__(self, sample):\n",
    "        image, speeds = sample['image'], sample['speeds']\n",
    "\n",
    "        return {'image': torch.from_numpy(image),\n",
    "                'speeds': torch.from_numpy(speeds)}"
   ]
  },
  {
   "cell_type": "code",
   "execution_count": 198,
   "metadata": {},
   "outputs": [
    {
     "name": "stdout",
     "output_type": "stream",
     "text": [
      "0 (28, 28) (28,)\n"
     ]
    },
    {
     "data": {
      "image/png": "[encoded data removed]",
      "text/plain": [
       "<Figure size 72x72 with 1 Axes>"
      ]
     },
     "metadata": {},
     "output_type": "display_data"
    },
    {
     "data": {
      "image/png": "[encoded data removed]",
      "text/plain": [
       "<Figure size 360x72 with 1 Axes>"
      ]
     },
     "metadata": {},
     "output_type": "display_data"
    }
   ],
   "source": [
    "tunnel_dataset = TunnelDataset(csv_file = '/Users/roberto/code/speed-from-image/images/speed_labels.csv',\n",
    "                               root_dir = '/Users/roberto/code/speed-from-image/images/')\n",
    "sampe_idx = 0\n",
    "sample = tunnel_dataset[sampe_idx]\n",
    "\n",
    "print(sampe_idx, sample['image'].shape, sample['speeds'].shape)\n",
    "\n",
    "plt.figure(figsize=(1,1))\n",
    "plt.imshow(sample['image'],cmap='gray', vmin=0, vmax=255)\n",
    "plt.figure(figsize=(5,1))\n",
    "plt.plot(sample['speeds'])\n",
    "plt.show()"
   ]
  },
  {
   "cell_type": "code",
   "execution_count": 199,
   "metadata": {},
   "outputs": [
    {
     "name": "stdout",
     "output_type": "stream",
     "text": [
      "Training set size: 350\n",
      "Validation set size: 50\n",
      "Test set size: 100\n",
      "0 torch.Size([28, 28]) torch.Size([28])\n"
     ]
    }
   ],
   "source": [
    "full_dataset = TunnelDataset(csv_file = '/Users/roberto/code/speed-from-image/images/speed_labels.csv',\n",
    "                                    root_dir = '/Users/roberto/code/speed-from-image/images/',\n",
    "                                    transform=transforms.Compose([ToTensor()]))\n",
    "train_ratio = 0.7\n",
    "validate_ratio = 0.1\n",
    "train_size = int(train_ratio * len(full_dataset))\n",
    "val_size = int(validate_ratio * len(full_dataset))\n",
    "test_size = len(full_dataset) - (train_size + val_size)\n",
    "train_dataset,val_dataset,test_dataset = torch.utils.data.random_split(full_dataset,[train_size,val_size,test_size])\n",
    "print('Training set size:',len(train_dataset))\n",
    "print('Validation set size:',len(val_dataset))\n",
    "print('Test set size:',len(test_dataset))\n",
    "\n",
    "sample = train_dataset[0]\n",
    "print(0, sample['image'].size(), sample['speeds'].size())"
   ]
  },
  {
   "cell_type": "code",
   "execution_count": 200,
   "metadata": {},
   "outputs": [
    {
     "name": "stdout",
     "output_type": "stream",
     "text": [
      "Net(\n",
      "  (conv1): Conv2d(1, 6, kernel_size=(3, 3), stride=(1, 1))\n",
      "  (conv2): Conv2d(6, 16, kernel_size=(3, 3), stride=(1, 1))\n",
      "  (fc1): Linear(in_features=400, out_features=120, bias=True)\n",
      "  (fc2): Linear(in_features=120, out_features=84, bias=True)\n",
      "  (fc3): Linear(in_features=84, out_features=28, bias=True)\n",
      ")\n"
     ]
    }
   ],
   "source": [
    "import torch.nn as nn\n",
    "import torch.nn.functional as F\n",
    "\n",
    "class Net(nn.Module):\n",
    "\n",
    "    def __init__(self):\n",
    "        super(Net, self).__init__()\n",
    "        # 1 input image channel, 6 output channels, 3x3 square convolution\n",
    "        # kernel\n",
    "        self.conv1 = nn.Conv2d(1, 6, 3)\n",
    "        self.conv2 = nn.Conv2d(6, 16, 3)\n",
    "        # an affine operation: y = Wx + b\n",
    "        self.fc1 = nn.Linear(400, 120)  # 6*6 from image dimension\n",
    "        self.fc2 = nn.Linear(120, 84)\n",
    "        self.fc3 = nn.Linear(84, 28)\n",
    "\n",
    "    def forward(self, x):\n",
    "        # Max pooling over a (2, 2) window\n",
    "        x = F.max_pool2d(F.relu(self.conv1(x.float())), (2, 2))\n",
    "        # If the size is a square you can only specify a single number\n",
    "        x = F.max_pool2d(F.relu(self.conv2(x)), 2)\n",
    "        x = x.view(-1, self.num_flat_features(x))\n",
    "        x = F.relu(self.fc1(x))\n",
    "        x = F.relu(self.fc2(x))\n",
    "        x = self.fc3(x)\n",
    "        return x\n",
    "\n",
    "    def num_flat_features(self, x):\n",
    "        size = x.size()[1:]  # all dimensions except the batch dimension\n",
    "        num_features = 1\n",
    "        for s in size:\n",
    "            num_features *= s\n",
    "        return num_features\n",
    "\n",
    "net = Net()\n",
    "print(net)"
   ]
  },
  {
   "cell_type": "code",
   "execution_count": 209,
   "metadata": {},
   "outputs": [
    {
     "name": "stdout",
     "output_type": "stream",
     "text": [
      "[1,    22] loss: 156.201\n",
      "[2,    22] loss: 50.767\n",
      "[3,    22] loss: 39.172\n",
      "[4,    22] loss: 32.032\n",
      "[5,    22] loss: 26.673\n",
      "[6,    22] loss: 22.333\n",
      "[7,    22] loss: 19.365\n",
      "[8,    22] loss: 16.819\n",
      "[9,    22] loss: 15.461\n",
      "[10,    22] loss: 14.254\n",
      "[11,    22] loss: 13.356\n",
      "[12,    22] loss: 12.568\n",
      "[13,    22] loss: 11.953\n",
      "[14,    22] loss: 11.347\n",
      "[15,    22] loss: 10.561\n",
      "[16,    22] loss: 10.136\n",
      "[17,    22] loss: 9.548\n",
      "[18,    22] loss: 9.359\n",
      "[19,    22] loss: 9.292\n",
      "[20,    22] loss: 8.870\n",
      "[21,    22] loss: 8.492\n",
      "[22,    22] loss: 8.196\n",
      "[23,    22] loss: 8.092\n",
      "[24,    22] loss: 8.022\n",
      "[25,    22] loss: 7.644\n",
      "[26,    22] loss: 7.543\n",
      "[27,    22] loss: 7.362\n",
      "[28,    22] loss: 6.958\n",
      "[29,    22] loss: 7.026\n",
      "[30,    22] loss: 6.682\n",
      "[31,    22] loss: 6.538\n",
      "[32,    22] loss: 6.469\n",
      "[33,    22] loss: 6.263\n",
      "[34,    22] loss: 5.998\n",
      "[35,    22] loss: 5.809\n",
      "[36,    22] loss: 5.565\n",
      "[37,    22] loss: 5.487\n",
      "[38,    22] loss: 5.427\n",
      "[39,    22] loss: 5.267\n",
      "[40,    22] loss: 5.132\n",
      "[41,    22] loss: 5.104\n",
      "[42,    22] loss: 5.028\n",
      "[43,    22] loss: 4.935\n",
      "[44,    22] loss: 4.840\n",
      "[45,    22] loss: 4.663\n",
      "[46,    22] loss: 4.490\n",
      "[47,    22] loss: 4.347\n",
      "[48,    22] loss: 4.403\n",
      "[49,    22] loss: 4.251\n",
      "[50,    22] loss: 4.118\n",
      "Finished Training\n"
     ]
    },
    {
     "data": {
      "text/plain": [
       "Text(0.5,1,'Loss after each epoch')"
      ]
     },
     "execution_count": 209,
     "metadata": {},
     "output_type": "execute_result"
    },
    {
     "data": {
      "image/png": "[encoded data removed]",
      "text/plain": [
       "<Figure size 1080x360 with 1 Axes>"
      ]
     },
     "metadata": {},
     "output_type": "display_data"
    }
   ],
   "source": [
    "train_loader = DataLoader(train_dataset, batch_size=16,\n",
    "                        shuffle=True, num_workers=1)\n",
    "\n",
    "import torch.optim as optim\n",
    "import torch\n",
    "torch.manual_seed(0)\n",
    "learning_rate = 1e-3\n",
    "net = Net()\n",
    "criterion = torch.nn.MSELoss()    # mean-squared error for regression\n",
    "optimizer = torch.optim.Adam(net.parameters(), lr=learning_rate)\n",
    "\n",
    "losses_over_epochs = []\n",
    "for epoch in range(50):  # loop over the dataset multiple times\n",
    "    running_loss = 0.0\n",
    "    for batch_idx, sample_batched in enumerate(train_loader):\n",
    "        inputs = sample_batched['image'].unsqueeze_(1) #batch_size, channels, H, W\n",
    "        labels = sample_batched['speeds'].to(torch.float32)\n",
    "        # zero the parameter gradients\n",
    "        optimizer.zero_grad()\n",
    "\n",
    "        # forward + backward + optimize\n",
    "        outputs = net(inputs)\n",
    "        loss = criterion(outputs, labels)\n",
    "        loss.backward()\n",
    "        optimizer.step()\n",
    "\n",
    "        # print statistics\n",
    "        running_loss += loss.item()\n",
    "        if(batch_idx == len(train_loader)-1):\n",
    "            print('[%d, %5d] loss: %.3f' %\n",
    "                  (epoch + 1, batch_idx + 1, running_loss / 1))\n",
    "            losses_over_epochs.append(running_loss)\n",
    "            running_loss = 0.0\n",
    "#             print(inputs.shape)\n",
    "#             print(labels.shape)\n",
    "\n",
    "print('Finished Training')\n",
    "plt.figure(figsize=(15,5))\n",
    "plt.plot(losses_over_epochs,'.-')\n",
    "plt.title(\"Loss after each epoch\")"
   ]
  },
  {
   "cell_type": "code",
   "execution_count": 210,
   "metadata": {},
   "outputs": [
    {
     "name": "stdout",
     "output_type": "stream",
     "text": [
      "torch.Size([1, 1, 28, 28])\n",
      "[[3.4665048 3.7110598 3.1698334 3.641888  2.8043184 2.156417  1.7554698\n",
      "  2.0234983 2.063574  1.8390077 1.6525145 2.087706  1.9085057 2.006396\n",
      "  2.4860778 4.4023833 4.699762  5.1693163 5.0602965 5.1787605 4.2985315\n",
      "  4.698459  5.5314364 5.590031  4.7152715 4.7975225 4.202419  4.112674 ]]\n"
     ]
    },
    {
     "data": {
      "image/png": "[encoded data removed]",
      "text/plain": [
       "<Figure size 432x288 with 1 Axes>"
      ]
     },
     "metadata": {},
     "output_type": "display_data"
    }
   ],
   "source": [
    "img_idx = 0\n",
    "img = train_loader.dataset[img_idx]['image'].unsqueeze_(0).unsqueeze_(0)\n",
    "print(img.shape)\n",
    "speed_labels = train_loader.dataset[img_idx]['speeds']\n",
    "\n",
    "speed_estimate = net(img).detach().numpy()\n",
    "plt.plot(speed_labels,label='Ground truth')\n",
    "plt.plot(speed_estimate[0],label='Prediction')\n",
    "plt.xlabel('Index')\n",
    "plt.ylabel('Speed (or width)')\n",
    "plt.legend()\n",
    "plt.grid()\n",
    "print(speed_estimate)"
   ]
  },
  {
   "cell_type": "code",
   "execution_count": 211,
   "metadata": {},
   "outputs": [
    {
     "data": {
      "image/png": "[encoded data removed]",
      "text/plain": [
       "<Figure size 432x288 with 1 Axes>"
      ]
     },
     "metadata": {},
     "output_type": "display_data"
    }
   ],
   "source": [
    "val_loader = DataLoader(val_dataset, batch_size=1,\n",
    "                        shuffle=False, num_workers=1)\n",
    "for i in range(1):\n",
    "    img_idx = i\n",
    "    img = val_loader.dataset[img_idx]['image'].unsqueeze_(0).unsqueeze_(0)\n",
    "#     print(img.shape)\n",
    "    speed_labels = val_loader.dataset[img_idx]['speeds']\n",
    "\n",
    "    speed_estimate = net(img).detach().numpy()\n",
    "    plt.figure()\n",
    "    plt.plot(speed_labels,label='Ground truth')\n",
    "    plt.plot(speed_estimate[0],label='Prediction')\n",
    "    plt.xlabel('Index')\n",
    "    plt.ylabel('Speed (or width)')\n",
    "    plt.legend()\n",
    "    plt.grid()\n",
    "#     print(speed_estimate)"
   ]
  },
  {
   "cell_type": "code",
   "execution_count": 222,
   "metadata": {},
   "outputs": [
    {
     "name": "stdout",
     "output_type": "stream",
     "text": [
      "Average RMSE (over entire subset)\n",
      "Validation set:\n",
      "0.1548490732559263\n",
      "Training set:\n",
      "0.07736421542129429\n"
     ]
    }
   ],
   "source": [
    "print(\"Average RMSE (over entire subset)\")\n",
    "print(\"Validation set:\")\n",
    "cumulative_RMSE = 0\n",
    "for i in range(len(val_loader)):\n",
    "    img = val_loader.dataset[i]['image'].unsqueeze_(0).unsqueeze_(0)\n",
    "    speed_labels = val_loader.dataset[i]['speeds'].numpy()\n",
    "    speed_estimate = net(img).detach().numpy()\n",
    "    RMSE = np.sqrt(np.mean(np.square(speed_labels - speed_estimate)/len(speed_labels)))\n",
    "    cumulative_RMSE += RMSE\n",
    "print(cumulative_RMSE/len(val_loader))\n",
    "\n",
    "cumulative_RMSE = 0\n",
    "# Not sure if this is the best way to do this, but otherwise the batch size will be what it was in training\n",
    "# and I don't know what that causes this loop to do.\n",
    "train_loader = DataLoader(train_dataset, batch_size=1,\n",
    "                        shuffle=False, num_workers=1)\n",
    "print(\"Training set:\")\n",
    "for i in range(len(train_loader)):\n",
    "    img = train_loader.dataset[i]['image'].unsqueeze_(0).unsqueeze_(0)\n",
    "    speed_labels = train_loader.dataset[i]['speeds'].numpy()\n",
    "    speed_estimate = net(img).detach().numpy()\n",
    "    RMSE = np.sqrt(np.mean(np.square(speed_labels - speed_estimate)/len(speed_labels)))\n",
    "    cumulative_RMSE += RMSE\n",
    "#     print(RMSE)\n",
    "print(cumulative_RMSE/len(train_loader))"
   ]
  },
  {
   "cell_type": "code",
   "execution_count": 223,
   "metadata": {},
   "outputs": [
    {
     "data": {
      "text/plain": [
       "350"
      ]
     },
     "execution_count": 223,
     "metadata": {},
     "output_type": "execute_result"
    }
   ],
   "source": [
    "train_loader = DataLoader(train_dataset, batch_size=1,\n",
    "                        shuffle=True, num_workers=1)\n",
    "len(train_loader)"
   ]
  },
  {
   "cell_type": "code",
   "execution_count": 228,
   "metadata": {},
   "outputs": [
    {
     "data": {
      "text/plain": [
       "50"
      ]
     },
     "execution_count": 228,
     "metadata": {},
     "output_type": "execute_result"
    }
   ],
   "source": [
    "val_loader = DataLoader(val_dataset, batch_size=1,\n",
    "                        shuffle=False, num_workers=1)\n",
    "len(val_loader)"
   ]
  },
  {
   "cell_type": "code",
   "execution_count": 229,
   "metadata": {},
   "outputs": [
    {
     "data": {
      "text/plain": [
       "50"
      ]
     },
     "execution_count": 229,
     "metadata": {},
     "output_type": "execute_result"
    }
   ],
   "source": [
    "len(val_dataset)"
   ]
  },
  {
   "cell_type": "code",
   "execution_count": null,
   "metadata": {},
   "outputs": [],
   "source": []
  },
  {
   "cell_type": "code",
   "execution_count": null,
   "metadata": {},
   "outputs": [],
   "source": []
  }
 ],
 "metadata": {
  "kernelspec": {
   "display_name": "Python 3",
   "language": "python",
   "name": "python3"
  },
  "language_info": {
   "codemirror_mode": {
    "name": "ipython",
    "version": 3
   },
   "file_extension": ".py",
   "mimetype": "text/x-python",
   "name": "python",
   "nbconvert_exporter": "python",
   "pygments_lexer": "ipython3",
   "version": "3.6.6"
  }
 },
 "nbformat": 4,
 "nbformat_minor": 2
}
