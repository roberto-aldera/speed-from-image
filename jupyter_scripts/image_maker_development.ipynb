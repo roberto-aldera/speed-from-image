{
 "cells": [
  {
   "cell_type": "code",
   "execution_count": 18,
   "metadata": {},
   "outputs": [],
   "source": [
    "import numpy as np\n",
    "import matplotlib.pyplot as plt \n",
    "from PIL import Image\n",
    "from random import randint, randrange, uniform"
   ]
  },
  {
   "cell_type": "code",
   "execution_count": 11,
   "metadata": {},
   "outputs": [],
   "source": [
    "arr = np.array([0,1,0,1])\n",
    "matrix = np.matrix([arr,arr])"
   ]
  },
  {
   "cell_type": "code",
   "execution_count": 12,
   "metadata": {},
   "outputs": [
    {
     "data": {
      "text/plain": [
       "matrix([[0, 1, 0, 1],\n",
       "        [0, 1, 0, 1]])"
      ]
     },
     "execution_count": 12,
     "metadata": {},
     "output_type": "execute_result"
    }
   ],
   "source": [
    "matrix"
   ]
  },
  {
   "cell_type": "code",
   "execution_count": 63,
   "metadata": {},
   "outputs": [
    {
     "data": {
      "image/png": "[encoded data removed]",
      "text/plain": [
       "<PIL.Image.Image image mode=RGB size=128x128 at 0x1115FE320>"
      ]
     },
     "execution_count": 63,
     "metadata": {},
     "output_type": "execute_result"
    }
   ],
   "source": [
    "from PIL import Image\n",
    "import numpy as np\n",
    "\n",
    "dim = 128\n",
    "w, h = dim,dim\n",
    "data = np.zeros((h, w, 3), dtype=np.uint8)\n",
    "data[5:15, 5:20] = [255, 0, 0]\n",
    "img = Image.fromarray(data, 'RGB')\n",
    "img.save('my1.png')\n",
    "img"
   ]
  },
  {
   "cell_type": "code",
   "execution_count": 73,
   "metadata": {},
   "outputs": [
    {
     "data": {
      "image/png": "[encoded data removed]",
      "text/plain": [
       "<PIL.Image.Image image mode=L size=128x128 at 0x111610E80>"
      ]
     },
     "execution_count": 73,
     "metadata": {},
     "output_type": "execute_result"
    }
   ],
   "source": [
    "dim = 128\n",
    "w, h = dim,dim\n",
    "data = np.zeros((h, w), dtype=np.uint8)\n",
    "data[0:dim, 45:50] = [255]\n",
    "data[0:dim, 65:70] = [255]\n",
    "\n",
    "img = Image.fromarray(data, 'L')\n",
    "img"
   ]
  },
  {
   "cell_type": "code",
   "execution_count": 101,
   "metadata": {},
   "outputs": [
    {
     "data": {
      "image/png": "[encoded data removed]",
      "text/plain": [
       "<PIL.Image.Image image mode=L size=128x128 at 0x111605630>"
      ]
     },
     "execution_count": 101,
     "metadata": {},
     "output_type": "execute_result"
    }
   ],
   "source": [
    "dim = 128\n",
    "wall_width = 5\n",
    "\n",
    "# Specify wall position in x,y\n",
    "left_1 = np.array([50,40])\n",
    "left_2 = np.array([60,dim])\n",
    "\n",
    "right_1 = np.array([left_1[0] + 30,40])\n",
    "right_2 = np.array([left_2[0] + 30,dim])\n",
    "\n",
    "w, h = dim,dim\n",
    "data = np.zeros((h, w), dtype=np.uint8)\n",
    "# data[0:dim, 45:50] = [255]\n",
    "# data[0:dim, 65:70] = [255]\n",
    "data[0:left_1[1],left_1[0]:left_1[0]+wall_width] = [255]\n",
    "data[left_1[1]:left_1[1]+wall_width,left_1[0]:left_2[0]] = [255]\n",
    "data[left_1[1]:left_2[1],left_2[0]:left_2[0]+wall_width] = [255]\n",
    "\n",
    "data[0:right_1[1],right_1[0]:right_1[0]+wall_width] = [255]\n",
    "data[right_1[1]:right_1[1]+wall_width,right_1[0]:right_2[0]] = [255]\n",
    "data[right_1[1]:right_2[1],right_2[0]:right_2[0]+wall_width] = [255]\n",
    "\n",
    "img = Image.fromarray(data, 'L')\n",
    "img"
   ]
  },
  {
   "cell_type": "code",
   "execution_count": 139,
   "metadata": {},
   "outputs": [
    {
     "data": {
      "image/png": "[encoded data removed]",
      "text/plain": [
       "<PIL.Image.Image image mode=L size=128x128 at 0x1115DBCC0>"
      ]
     },
     "execution_count": 139,
     "metadata": {},
     "output_type": "execute_result"
    }
   ],
   "source": [
    "dim = 128\n",
    "wall_width = 5\n",
    "\n",
    "# Specify wall position in row, col\n",
    "p1 = np.array([0,40])\n",
    "p2 = np.array([60,40])\n",
    "p3 = np.array([60,50])\n",
    "p4 = np.array([dim,50])\n",
    "\n",
    "offset = 40\n",
    "q1 = p1 + [0,offset]\n",
    "q2 = p2 + [0,offset]\n",
    "q3 = p3 + [0,offset]\n",
    "q4 = p4 + [0,offset]\n",
    "\n",
    "w, h = dim,dim\n",
    "data = np.zeros((h, w), dtype=np.uint8)\n",
    "# data[0:dim, 45:50] = [255]\n",
    "data[p1[0]:p2[0], p1[1]:p1[1]+wall_width] = 255\n",
    "data[p2[0]:p2[0]+wall_width, p2[1]:p3[1]] = 255\n",
    "data[p3[0]:p4[0], p3[1]:p3[1]+wall_width] = 255\n",
    "\n",
    "data[q1[0]:q2[0], q1[1]:q1[1]+wall_width] = 255\n",
    "data[q2[0]:q2[0]+wall_width, q2[1]:q3[1]] = 255\n",
    "data[q3[0]:q4[0], q3[1]:q3[1]+wall_width] = 255\n",
    "\n",
    "img = Image.fromarray(data, 'L')\n",
    "img"
   ]
  },
  {
   "cell_type": "code",
   "execution_count": 166,
   "metadata": {},
   "outputs": [
    {
     "data": {
      "image/png": "[encoded data removed]",
      "text/plain": [
       "<PIL.Image.Image image mode=L size=128x128 at 0x111672F98>"
      ]
     },
     "execution_count": 166,
     "metadata": {},
     "output_type": "execute_result"
    }
   ],
   "source": [
    "dim = 128\n",
    "wall_width = 5\n",
    "\n",
    "start = np.array([0,int(dim/2)])\n",
    "\n",
    "w, h = dim,dim\n",
    "data = np.zeros((h, w), dtype=np.uint8)\n",
    "# data[0:dim, 45:50] = [255]\n",
    "# for i in range(int(dim/2)-10):\n",
    "#     data[i,start[1]+10+i] = 255\n",
    "\n",
    "width = np.empty(dim,dtype=np.uint8)\n",
    "width[0:int(dim/2)] = 10\n",
    "width[int(dim/2):dim] = 20\n",
    "\n",
    "for i in range(dim):\n",
    "#     data[i,start[1]+10] = 255\n",
    "    data[i,start[1]+width[i]] = 255\n",
    "\n",
    "img = Image.fromarray(data, 'L')\n",
    "img"
   ]
  },
  {
   "cell_type": "code",
   "execution_count": 282,
   "metadata": {},
   "outputs": [
    {
     "data": {
      "image/png": "[encoded data removed]",
      "text/plain": [
       "<PIL.Image.Image image mode=L size=128x128 at 0x117586208>"
      ]
     },
     "metadata": {},
     "output_type": "display_data"
    },
    {
     "data": {
      "image/png": "[encoded data removed]",
      "text/plain": [
       "<Figure size 432x288 with 1 Axes>"
      ]
     },
     "metadata": {},
     "output_type": "display_data"
    }
   ],
   "source": [
    "dim = 128\n",
    "wall_width = 5\n",
    "\n",
    "start = np.array([0,int(dim/2)])\n",
    "n_sections = 3\n",
    "w, h = dim,dim\n",
    "data = np.zeros((h, w), dtype=np.uint8)\n",
    "\n",
    "width = np.empty(dim,dtype=np.uint8)\n",
    "width[0:int(dim/n_sections)] = 15\n",
    "width[int(dim/n_sections):int(dim*2/n_sections)] = 10\n",
    "width[int(dim*2/n_sections):dim] = 25\n",
    "\n",
    "for i in range(dim):\n",
    "    data[i,start[1]+width[i]:start[1]+width[i]+wall_width] = 255 # left wall\n",
    "    data[i,start[1]-width[i]:start[1]-width[i]+wall_width] = 255 # right wall\n",
    "\n",
    "img = Image.fromarray(data, 'L')\n",
    "display(img)\n",
    "plt.plot(width)\n",
    "img.save('my1.png')\n"
   ]
  },
  {
   "cell_type": "code",
   "execution_count": 202,
   "metadata": {},
   "outputs": [
    {
     "data": {
      "image/png": "[encoded data removed]",
      "text/plain": [
       "<PIL.Image.Image image mode=L size=128x128 at 0x114C730B8>"
      ]
     },
     "metadata": {},
     "output_type": "display_data"
    },
    {
     "data": {
      "text/plain": [
       "[<matplotlib.lines.Line2D at 0x114ceed30>]"
      ]
     },
     "execution_count": 202,
     "metadata": {},
     "output_type": "execute_result"
    },
    {
     "data": {
      "image/png": "[encoded data removed]",
      "text/plain": [
       "<Figure size 432x288 with 1 Axes>"
      ]
     },
     "metadata": {},
     "output_type": "display_data"
    }
   ],
   "source": [
    "dim = 128\n",
    "wall_width = 5\n",
    "\n",
    "start = np.array([0,int(dim/2)])\n",
    "n_sections = 5\n",
    "w, h = dim,dim\n",
    "data = np.zeros((h, w), dtype=np.uint8)\n",
    "\n",
    "width = np.empty(dim,dtype=np.uint8)\n",
    "# for i in range(n_sections)\n",
    "width[0:int(dim/n_sections)] = 15\n",
    "width[int(dim/n_sections):int(dim*2/n_sections)] = 10\n",
    "width[int(dim*2/n_sections):dim] = 25\n",
    "\n",
    "for i in range(dim):\n",
    "    data[i,start[1]+width[i]:start[1]+width[i]+wall_width] = 255 # left wall\n",
    "    data[i,start[1]-width[i]:start[1]-width[i]+wall_width] = 255 # right wall\n",
    "\n",
    "img = Image.fromarray(data, 'L')\n",
    "display(img)\n",
    "plt.plot(width)"
   ]
  },
  {
   "cell_type": "code",
   "execution_count": 301,
   "metadata": {},
   "outputs": [
    {
     "name": "stdout",
     "output_type": "stream",
     "text": [
      "0\n",
      "1\n",
      "2\n",
      "3\n"
     ]
    },
    {
     "data": {
      "image/png": "[encoded data removed]",
      "text/plain": [
       "<PIL.Image.Image image mode=L size=128x128 at 0x1182D5550>"
      ]
     },
     "metadata": {},
     "output_type": "display_data"
    },
    {
     "data": {
      "text/plain": [
       "[<matplotlib.lines.Line2D at 0x118354128>]"
      ]
     },
     "execution_count": 301,
     "metadata": {},
     "output_type": "execute_result"
    },
    {
     "data": {
      "image/png": "[encoded data removed]",
      "text/plain": [
       "<Figure size 432x288 with 1 Axes>"
      ]
     },
     "metadata": {},
     "output_type": "display_data"
    }
   ],
   "source": [
    "width = np.empty(dim,dtype=np.uint8)\n",
    "dim = 128\n",
    "wall_width = 5\n",
    "start = np.array([0,int(dim/2)])\n",
    "w, h = dim,dim\n",
    "data = np.zeros((h, w), dtype=np.uint8)\n",
    "n = 4\n",
    "step_val = randrange(10,int(dim/n))\n",
    "width[0:step_val] = randrange(20,30)\n",
    "prev_step_val = step_val\n",
    "\n",
    "for i in range(n):\n",
    "    step_val = randrange(10,int(dim/n))\n",
    "    width[prev_step_val:prev_step_val+step_val] = randrange(20,30)\n",
    "    prev_step_val =+ step_val\n",
    "\n",
    "    print(i)\n",
    "#     width[int(dim/n_sections):int(dim*2/n_sections)] = 10\n",
    "#     width[int(dim*2/n_sections):dim] = 25\n",
    "\n",
    "# plt.plot(width)\n",
    "for i in range(dim):\n",
    "    data[i,start[1]+width[i]:start[1]+width[i]+wall_width] = 255 # left wall\n",
    "    data[i,start[1]-width[i]:start[1]-width[i]+wall_width] = 255 # right wall\n",
    "\n",
    "img = Image.fromarray(data, 'L')\n",
    "display(img)\n",
    "plt.plot(width)"
   ]
  },
  {
   "cell_type": "code",
   "execution_count": 15,
   "metadata": {},
   "outputs": [
    {
     "name": "stdout",
     "output_type": "stream",
     "text": [
      "[24, 29, 30, 12, 18, 15]\n"
     ]
    },
    {
     "data": {
      "text/plain": [
       "128"
      ]
     },
     "execution_count": 15,
     "metadata": {},
     "output_type": "execute_result"
    }
   ],
   "source": [
    "def decomposition(leftovers,min_val,max_val):\n",
    "        while leftovers > 0:\n",
    "#             print(leftovers)\n",
    "            if(leftovers > min_val):\n",
    "                n = randint(min_val, max_val)\n",
    "                # avoid chance of small future value by discarding n if the new remains are too small\n",
    "                if((leftovers - n) < min_val): \n",
    "                    n = leftovers\n",
    "            yield n\n",
    "            leftovers -= n\n",
    "tmp = list(decomposition(128,10,30))\n",
    "print(tmp)\n",
    "np.sum(tmp)"
   ]
  },
  {
   "cell_type": "code",
   "execution_count": 27,
   "metadata": {},
   "outputs": [
    {
     "name": "stdout",
     "output_type": "stream",
     "text": [
      "Step vals: [7, 4, 4, 5, 3, 5]\n"
     ]
    },
    {
     "data": {
      "image/png": "[encoded data removed]",
      "text/plain": [
       "<PIL.Image.Image image mode=L size=28x28 at 0x115933E10>"
      ]
     },
     "metadata": {},
     "output_type": "display_data"
    },
    {
     "data": {
      "text/plain": [
       "(0, 30)"
      ]
     },
     "execution_count": 27,
     "metadata": {},
     "output_type": "execute_result"
    },
    {
     "data": {
      "image/png": "[encoded data removed]",
      "text/plain": [
       "<Figure size 432x288 with 1 Axes>"
      ]
     },
     "metadata": {},
     "output_type": "display_data"
    }
   ],
   "source": [
    "dim = 28\n",
    "width = np.zeros(dim,dtype=np.uint8)\n",
    "wall_width = 2\n",
    "start = np.array([0,int(dim/2)])\n",
    "w, h = dim,dim\n",
    "data = np.zeros((h, w), dtype=np.uint8)\n",
    "min_width, max_width = 2,8\n",
    "step_vals = list(decomposition(dim,min_width,max_width)) # generate random partitions\n",
    "print(\"Step vals:\",step_vals)\n",
    "total = 0\n",
    "\n",
    "for i in range(len(step_vals)):\n",
    "    width[total:total+step_vals[i]] = randrange(min_width,max_width)\n",
    "    total += step_vals[i]\n",
    "\n",
    "for i in range(dim):\n",
    "    data[i,start[1]+width[i]:start[1]+width[i]+wall_width] = 255 # left wall\n",
    "    data[i,start[1]-width[i]:start[1]-width[i]+wall_width] = 255 # right wall\n",
    "\n",
    "img = Image.fromarray(data, 'L')\n",
    "display(img)\n",
    "\n",
    "speed = np.zeros(dim)\n",
    "for i in range(len(speed)):\n",
    "    speed[i] = width[i] + uniform(-0.5,0.5)\n",
    "\n",
    "plt.plot(width)\n",
    "plt.plot(speed)\n",
    "plt.ylim(0,30)"
   ]
  },
  {
   "cell_type": "code",
   "execution_count": 30,
   "metadata": {},
   "outputs": [],
   "source": [
    "dim = 28\n",
    "wall_width = 2\n",
    "start = np.array([0,int(dim/2)])\n",
    "w, h = dim,dim\n",
    "min_width, max_width = 2,8\n",
    "n_samples = 100\n",
    "speed_labels = []\n",
    "\n",
    "for idx in range(n_samples):\n",
    "    width = np.zeros(dim,dtype=np.uint8)\n",
    "    data = np.zeros((h, w), dtype=np.uint8)\n",
    "    step_vals = list(decomposition(dim,min_width,max_width)) # generate random partitions\n",
    "    total = 0\n",
    "\n",
    "    for i in range(len(step_vals)):\n",
    "        width[total:total+step_vals[i]] = randrange(min_width,max_width)\n",
    "        total += step_vals[i]\n",
    "\n",
    "    for i in range(dim):\n",
    "        data[i,start[1]+width[i]:start[1]+width[i]+wall_width] = 255 # left wall\n",
    "        data[i,start[1]-width[i]:start[1]-width[i]+wall_width] = 255 # right wall\n",
    "\n",
    "    img = Image.fromarray(data, 'L')\n",
    "    img.save(\"%s%i%s\" % ('/Users/roberto/code/speed-from-image/images/img-',idx,'.png'))\n",
    "    \n",
    "    # Add noise to width data and treat this as speed\n",
    "    speed = np.zeros(dim)\n",
    "    for i in range(len(speed)):\n",
    "        speed[i] = width[i] + uniform(-0.5,0.5)\n",
    "    speed_labels.append(speed)\n",
    "\n",
    "np.savetxt('/Users/roberto/code/speed-from-image/images/speed_labels.csv', speed_labels, delimiter=',',fmt='%10.5f')"
   ]
  },
  {
   "cell_type": "code",
   "execution_count": null,
   "metadata": {},
   "outputs": [],
   "source": []
  }
 ],
 "metadata": {
  "kernelspec": {
   "display_name": "Python 3",
   "language": "python",
   "name": "python3"
  },
  "language_info": {
   "codemirror_mode": {
    "name": "ipython",
    "version": 3
   },
   "file_extension": ".py",
   "mimetype": "text/x-python",
   "name": "python",
   "nbconvert_exporter": "python",
   "pygments_lexer": "ipython3",
   "version": "3.6.6"
  }
 },
 "nbformat": 4,
 "nbformat_minor": 2
}
